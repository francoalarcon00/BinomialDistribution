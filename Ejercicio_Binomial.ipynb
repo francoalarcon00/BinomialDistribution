{
 "cells": [
  {
   "cell_type": "markdown",
   "metadata": {},
   "source": [
    "EJERCICIO\n",
    "\n",
    "De una producción donde el 2% de los artículos son defectuosos se extraen con reposición 5 de ellos y se analiza su calidad. Sea X la variable aleatoria que corresponde al número de artículos defectuosos entre los 5 extraídos.\n",
    "\n",
    "Calcular la probabilidad de que sean defectuosos: \n",
    "\n",
    "        i) exactamente dos de los artículos extraídos\n",
    "\n",
    "        ii) menos de dos\n",
    "\n",
    "        iii) más de dos\n",
    "\n",
    "        iv) por lo menos uno\n",
    "\n",
    "\n",
    "Observemos que:\n",
    "\n",
    "        X --> Número de artículos defectuosos entre 5 artículos extraídos\n",
    "Esta variale aleatoria tiene correlacion con una Distribución Binomial con parámetros\n",
    "\n",
    "        n = 5  y  p = 0.02 \n",
    "\n",
    "        Entonces: X ~ Bi (n = 5, p = 0.02)"
   ]
  },
  {
   "cell_type": "code",
   "execution_count": 1,
   "metadata": {},
   "outputs": [],
   "source": [
    "#De la librería math importamos la función factorial\n",
    "from math import factorial as fct"
   ]
  },
  {
   "cell_type": "markdown",
   "metadata": {},
   "source": [
    "Creamos las funciones que nos ayudarán a resolver los problemas propuestos"
   ]
  },
  {
   "cell_type": "markdown",
   "metadata": {},
   "source": [
    "<li>Combinatoria</li>"
   ]
  },
  {
   "cell_type": "markdown",
   "metadata": {},
   "source": [
    "<img src=\"https://3.bp.blogspot.com/-Rhb7iBpnQXU/V13JmeHaP8I/AAAAAAAABvY/h2Y-y_OyvlA0a1VKkBVEUVKUTyRHxG5DQCLcB/s1600/combi.png\" style=\"background-color: white\" >"
   ]
  },
  {
   "cell_type": "code",
   "execution_count": 2,
   "metadata": {},
   "outputs": [],
   "source": [
    "#Función Combinatoria\n",
    "def Combinatoria(n, a):\n",
    "    return(fct(n) / (fct(a) * fct(n-a)))"
   ]
  },
  {
   "cell_type": "markdown",
   "metadata": {},
   "source": [
    "<li>Funcion de distribución acumulada</li>"
   ]
  },
  {
   "cell_type": "markdown",
   "metadata": {},
   "source": [
    "<img src=\"https://wikimedia.org/api/rest_v1/media/math/render/svg/512a2c64073a9d8568092601577850270f068dbf\" style=\"background-color: white\">"
   ]
  },
  {
   "cell_type": "code",
   "execution_count": 11,
   "metadata": {},
   "outputs": [],
   "source": [
    "#Funcion Distribucion, recibe los parámetros de la Distribución Binomial y los límites tanto inferior (i)\n",
    "#como superior (s) de la sumatoria \n",
    "def Funcion_Distribucion(n, p, i, s):\n",
    "    acum = 0\n",
    "    while i <= s:\n",
    "        P = Combinatoria(n, i) * ((1-p)**(n-i)) * (p**(i))\n",
    "        acum += P\n",
    "        i = i + 1\n",
    "    return acum"
   ]
  },
  {
   "cell_type": "markdown",
   "metadata": {},
   "source": [
    "<li>ITEM I</li>\n",
    "\n",
    "        --> Exactamente dos de los artículos extraídos"
   ]
  },
  {
   "cell_type": "code",
   "execution_count": 9,
   "metadata": {},
   "outputs": [
    {
     "name": "stdout",
     "output_type": "stream",
     "text": [
      "La probabilidad de que exactamente dos articulos sean defectuosos es de: 0.0037647679999999995\n"
     ]
    }
   ],
   "source": [
    "p_i = Funcion_Distribucion(5,0.02,2,2)\n",
    "print('La probabilidad de que exactamente dos artículos sean defectuosos es de: '+str(p_i))"
   ]
  },
  {
   "cell_type": "markdown",
   "metadata": {},
   "source": [
    "<li>ITEM II</li>\n",
    "\n",
    "        --> Menos de dos artículos defectuosos"
   ]
  },
  {
   "cell_type": "code",
   "execution_count": 5,
   "metadata": {},
   "outputs": [
    {
     "name": "stdout",
     "output_type": "stream",
     "text": [
      "La probabilidad de que menos de dos artículos sean defectuosos es de: 0.9961576127999999\n"
     ]
    }
   ],
   "source": [
    "p_ii = Funcion_Distribucion(5,0.02,0,1)\n",
    "print('La probabilidad de que menos de dos artículos sean defectuosos es de: '+str(p_ii))"
   ]
  },
  {
   "cell_type": "markdown",
   "metadata": {},
   "source": [
    "<li>ITEM III</li>\n",
    "\n",
    "        --> Más de dos artículos defectuosos"
   ]
  },
  {
   "cell_type": "code",
   "execution_count": 6,
   "metadata": {},
   "outputs": [
    {
     "name": "stdout",
     "output_type": "stream",
     "text": [
      "La probabilidad de que más de dos artículos sean defectuosos es de: 7.76192e-05\n"
     ]
    }
   ],
   "source": [
    "p_iii = Funcion_Distribucion(5,0.02,3,5)\n",
    "print('La probabilidad de que más de dos artículos sean defectuosos es de: '+str(p_iii))"
   ]
  },
  {
   "cell_type": "markdown",
   "metadata": {},
   "source": [
    "<li>ITEM IV</li>\n",
    "\n",
    "        --> Por lo menos un artículo defectuoso"
   ]
  },
  {
   "cell_type": "code",
   "execution_count": 7,
   "metadata": {},
   "outputs": [
    {
     "name": "stdout",
     "output_type": "stream",
     "text": [
      "La probabilidad de que por lo menos un artículo sea defectuoso es de: 0.09607920319999999\n"
     ]
    }
   ],
   "source": [
    "p_iv = Funcion_Distribucion(5,0.02,1,5)\n",
    "print('La probabilidad de que por lo menos un artículo sea defectuoso es de: '+str(p_iv))"
   ]
  }
 ],
 "metadata": {
  "kernelspec": {
   "display_name": "Python 3.10.5 64-bit",
   "language": "python",
   "name": "python3"
  },
  "language_info": {
   "codemirror_mode": {
    "name": "ipython",
    "version": 3
   },
   "file_extension": ".py",
   "mimetype": "text/x-python",
   "name": "python",
   "nbconvert_exporter": "python",
   "pygments_lexer": "ipython3",
   "version": "3.10.5"
  },
  "orig_nbformat": 4,
  "vscode": {
   "interpreter": {
    "hash": "afb734500600fd355917ca529030176ea0ca205570884b88f2f6f7d791fd3fbe"
   }
  }
 },
 "nbformat": 4,
 "nbformat_minor": 2
}
